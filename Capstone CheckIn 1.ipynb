{
 "cells": [
  {
   "cell_type": "markdown",
   "metadata": {},
   "source": [
    "## Project 1\n",
    "\n",
    "Problem statement: building a predition model for the NBA to successfully predict the NBA playoffs.\n",
    "\n",
    "Measure of success: model correctly picks games\n",
    "\n",
    "Data sets: Basketball Reference\n",
    "\n",
    "Stakeholders: sports media publications, gambling organizations, the NBA"
   ]
  },
  {
   "cell_type": "markdown",
   "metadata": {},
   "source": [
    "## Project 2\n",
    "\n",
    "Problem statement: Wage theft is a massive problem facing the average American worker. As more labor transitions to the \"gig economy\" mapping and visualizing the economic impact of wage theft is vital to protecting at-risk workers.\n",
    "\n",
    "Data sets: Bureau of Labor Statistics, Department of Labor, academic studies\n",
    "\n",
    "Stakeholders: labor organizations, federal government, non-profits\n",
    "\n",
    "Problems: properly extrapolating the data to estimate the impact on the economy"
   ]
  },
  {
   "cell_type": "markdown",
   "metadata": {},
   "source": [
    "## Project 3\n",
    "\n",
    "Problem statement: Loosening of DoD reporting regulations have meant that we do not have a full picture of American military actions overseas. This project will pull together a variety of open source data sources to map American airstrikes in Afghanistan since President Trump took office.\n",
    "\n",
    "Data sources: DoD reporting, social media, Bellingcat, satellite photos\n",
    "\n",
    "Stakeholders: government, human rights organizations, newspapers\n",
    "\n",
    "Problems: reliable data, complexities involved in mapping remote conflict zones."
   ]
  },
  {
   "cell_type": "code",
   "execution_count": null,
   "metadata": {},
   "outputs": [],
   "source": []
  },
  {
   "cell_type": "code",
   "execution_count": null,
   "metadata": {},
   "outputs": [],
   "source": []
  }
 ],
 "metadata": {
  "kernelspec": {
   "display_name": "Python 3",
   "language": "python",
   "name": "python3"
  },
  "language_info": {
   "codemirror_mode": {
    "name": "ipython",
    "version": 3
   },
   "file_extension": ".py",
   "mimetype": "text/x-python",
   "name": "python",
   "nbconvert_exporter": "python",
   "pygments_lexer": "ipython3",
   "version": "3.7.4"
  }
 },
 "nbformat": 4,
 "nbformat_minor": 2
}
