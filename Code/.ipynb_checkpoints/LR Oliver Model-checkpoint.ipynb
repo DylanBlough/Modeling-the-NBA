{
 "cells": [
  {
   "cell_type": "code",
   "execution_count": 3,
   "metadata": {},
   "outputs": [],
   "source": [
    "# Imports\n",
    "import pandas as pd\n",
    "import numpy as np\n",
    "import matplotlib.pyplot as plt\n",
    "from sklearn.ensemble import RandomForestRegressor\n",
    "from sklearn.linear_model import LinearRegression\n",
    "from sklearn.model_selection import train_test_split, KFold, cross_val_score, cross_validate, GridSearchCV\n",
    "from sklearn import metrics\n",
    "\n",
    "from tqdm import tqdm "
   ]
  },
  {
   "cell_type": "code",
   "execution_count": 4,
   "metadata": {},
   "outputs": [],
   "source": [
    "box_scores = pd.read_csv(\"../datasets/box_scores_cleaned\", index_col = None)\n"
   ]
  },
  {
   "cell_type": "code",
   "execution_count": 5,
   "metadata": {},
   "outputs": [
    {
     "data": {
      "text/plain": [
       "Index(['Unnamed: 0', 'away_assist_percentage', 'away_assists',\n",
       "       'away_block_percentage', 'away_blocks', 'away_defensive_rating',\n",
       "       'away_defensive_rebound_percentage', 'away_defensive_rebounds',\n",
       "       'away_effective_field_goal_percentage', 'away_field_goal_attempts',\n",
       "       'away_field_goal_percentage', 'away_field_goals',\n",
       "       'away_free_throw_attempt_rate', 'away_free_throw_attempts',\n",
       "       'away_free_throw_percentage', 'away_free_throws', 'away_losses',\n",
       "       'away_minutes_played', 'away_offensive_rating',\n",
       "       'away_offensive_rebound_percentage', 'away_offensive_rebounds',\n",
       "       'away_personal_fouls', 'away_points', 'away_steal_percentage',\n",
       "       'away_steals', 'away_three_point_attempt_rate',\n",
       "       'away_three_point_field_goal_attempts',\n",
       "       'away_three_point_field_goal_percentage',\n",
       "       'away_three_point_field_goals', 'away_total_rebound_percentage',\n",
       "       'away_total_rebounds', 'away_true_shooting_percentage',\n",
       "       'away_turnover_percentage', 'away_turnovers',\n",
       "       'away_two_point_field_goal_attempts',\n",
       "       'away_two_point_field_goal_percentage', 'away_two_point_field_goals',\n",
       "       'away_wins', 'home_assist_percentage', 'home_assists',\n",
       "       'home_block_percentage', 'home_blocks', 'home_defensive_rating',\n",
       "       'home_defensive_rebound_percentage', 'home_defensive_rebounds',\n",
       "       'home_effective_field_goal_percentage', 'home_field_goal_attempts',\n",
       "       'home_field_goal_percentage', 'home_field_goals',\n",
       "       'home_free_throw_attempt_rate', 'home_free_throw_attempts',\n",
       "       'home_free_throw_percentage', 'home_free_throws', 'home_losses',\n",
       "       'home_minutes_played', 'home_offensive_rating',\n",
       "       'home_offensive_rebound_percentage', 'home_offensive_rebounds',\n",
       "       'home_personal_fouls', 'home_points', 'home_steal_percentage',\n",
       "       'home_steals', 'home_three_point_attempt_rate',\n",
       "       'home_three_point_field_goal_attempts',\n",
       "       'home_three_point_field_goal_percentage',\n",
       "       'home_three_point_field_goals', 'home_total_rebound_percentage',\n",
       "       'home_total_rebounds', 'home_true_shooting_percentage',\n",
       "       'home_turnover_percentage', 'home_turnovers',\n",
       "       'home_two_point_field_goal_attempts',\n",
       "       'home_two_point_field_goal_percentage', 'home_two_point_field_goals',\n",
       "       'home_wins', 'pace'],\n",
       "      dtype='object')"
      ]
     },
     "execution_count": 5,
     "metadata": {},
     "output_type": "execute_result"
    }
   ],
   "source": [
    "box_scores.columns"
   ]
  },
  {
   "cell_type": "code",
   "execution_count": 6,
   "metadata": {},
   "outputs": [],
   "source": [
    "# all the columns covering the Four Factors\n",
    "\n",
    "box_scores = box_scores[['away_effective_field_goal_percentage', 'home_effective_field_goal_percentage',\n",
    "                        'away_turnover_percentage', 'home_turnover_percentage',\n",
    "                        'away_defensive_rebound_percentage', 'home_defensive_rebound_percentage',\n",
    "                        'away_offensive_rebound_percentage', 'home_offensive_rebound_percentage',\n",
    "                        'away_free_throw_percentage', 'home_free_throw_percentage',\n",
    "                        'away_points', 'home_points']]"
   ]
  },
  {
   "cell_type": "code",
   "execution_count": 7,
   "metadata": {},
   "outputs": [],
   "source": [
    "# getting rid of target columns\n",
    "\n",
    "drop_col = ['away_points', 'home_points']"
   ]
  },
  {
   "cell_type": "code",
   "execution_count": 8,
   "metadata": {
    "scrolled": true
   },
   "outputs": [
    {
     "data": {
      "text/plain": [
       "Index(['away_effective_field_goal_percentage',\n",
       "       'home_effective_field_goal_percentage', 'away_turnover_percentage',\n",
       "       'home_turnover_percentage', 'away_defensive_rebound_percentage',\n",
       "       'home_defensive_rebound_percentage',\n",
       "       'away_offensive_rebound_percentage',\n",
       "       'home_offensive_rebound_percentage', 'away_free_throw_percentage',\n",
       "       'home_free_throw_percentage', 'away_points', 'home_points'],\n",
       "      dtype='object')"
      ]
     },
     "execution_count": 8,
     "metadata": {},
     "output_type": "execute_result"
    }
   ],
   "source": [
    "# checking our work\n",
    "\n",
    "box_scores.columns"
   ]
  },
  {
   "cell_type": "code",
   "execution_count": 9,
   "metadata": {},
   "outputs": [],
   "source": [
    "X = box_scores.drop(drop_col, 1) # excludes our target vectors from above cell\n",
    "y = box_scores[['home_points', 'away_points']] # split out our target vector"
   ]
  },
  {
   "cell_type": "code",
   "execution_count": 10,
   "metadata": {},
   "outputs": [],
   "source": [
    "X_train, X_test, y_train, y_test = train_test_split(X, y, train_size = .75) # training the model on 75% of the data"
   ]
  },
  {
   "cell_type": "code",
   "execution_count": 11,
   "metadata": {},
   "outputs": [
    {
     "name": "stdout",
     "output_type": "stream",
     "text": [
      "0.6768089676455166\n",
      "0.6666309125484928\n"
     ]
    },
    {
     "name": "stderr",
     "output_type": "stream",
     "text": [
      "/Users/dylanblough/opt/anaconda3/lib/python3.7/site-packages/sklearn/base.py:420: FutureWarning: The default value of multioutput (not exposed in score method) will change from 'variance_weighted' to 'uniform_average' in 0.23 to keep consistent with 'metrics.r2_score'. To specify the default value manually and avoid the warning, please either call 'metrics.r2_score' directly or make a custom scorer with 'metrics.make_scorer' (the built-in scorer 'r2' uses multioutput='uniform_average').\n",
      "  \"multioutput='uniform_average').\", FutureWarning)\n",
      "/Users/dylanblough/opt/anaconda3/lib/python3.7/site-packages/sklearn/base.py:420: FutureWarning: The default value of multioutput (not exposed in score method) will change from 'variance_weighted' to 'uniform_average' in 0.23 to keep consistent with 'metrics.r2_score'. To specify the default value manually and avoid the warning, please either call 'metrics.r2_score' directly or make a custom scorer with 'metrics.make_scorer' (the built-in scorer 'r2' uses multioutput='uniform_average').\n",
      "  \"multioutput='uniform_average').\", FutureWarning)\n"
     ]
    }
   ],
   "source": [
    "lr = LinearRegression() # instantiates the model, fits it and then prints the scores\n",
    "lr.fit(X_train, y_train)\n",
    "print(lr.score(X_train, y_train))\n",
    "print(lr.score(X_test, y_test))"
   ]
  },
  {
   "cell_type": "code",
   "execution_count": 12,
   "metadata": {},
   "outputs": [
    {
     "name": "stdout",
     "output_type": "stream",
     "text": [
      "5.74508767735523\n"
     ]
    }
   ],
   "source": [
    "# calculating our mean absolute error\n",
    "\n",
    "y_pred = lr.predict(X_test)\n",
    "y_true = y_test\n",
    "print(metrics.mean_absolute_error(y_pred, y_true))"
   ]
  },
  {
   "cell_type": "markdown",
   "metadata": {},
   "source": [
    "This shows that our predictions are an average of 5 points off - which is not too bad in the basketball context"
   ]
  },
  {
   "cell_type": "code",
   "execution_count": 14,
   "metadata": {
    "scrolled": true
   },
   "outputs": [
    {
     "name": "stdout",
     "output_type": "stream",
     "text": [
      "Index(['away_effective_field_goal_percentage',\n",
      "       'home_effective_field_goal_percentage', 'away_turnover_percentage',\n",
      "       'home_turnover_percentage', 'away_defensive_rebound_percentage',\n",
      "       'home_defensive_rebound_percentage',\n",
      "       'away_offensive_rebound_percentage',\n",
      "       'home_offensive_rebound_percentage', 'away_free_throw_percentage',\n",
      "       'home_free_throw_percentage'],\n",
      "      dtype='object')\n",
      "[[ 1.36703305e+01  1.52518149e+02  7.50554819e-02 -1.07330550e+00\n",
      "  -1.28057608e+01 -8.20400782e+00 -8.32508889e+00 -1.25005712e+01\n",
      "   1.35918507e+00  1.35918507e+00]\n",
      " [ 1.53569322e+02  1.27680456e+01 -1.07982411e+00  1.16650279e-01\n",
      "  -1.12098961e+01 -7.28326367e+00 -6.97618600e+00 -1.13168149e+01\n",
      "   9.36162988e+00  9.36162988e+00]]\n"
     ]
    }
   ],
   "source": [
    "print(X_test.columns)\n",
    "print(lr.coef_)"
   ]
  },
  {
   "cell_type": "markdown",
   "metadata": {},
   "source": [
    "Surpisingly, the free throw percentage ended up with the highest positive correlation! This suggests to me that Oliver's weightings undervalue FT - possibly because it was written in 2004 and the game has evolved to focus heavily on 3 pt shooting and getting to the line"
   ]
  },
  {
   "cell_type": "code",
   "execution_count": 15,
   "metadata": {
    "scrolled": true
   },
   "outputs": [
    {
     "data": {
      "text/plain": [
       "home_points    0.211986\n",
       "away_points    0.089676\n",
       "dtype: float64"
      ]
     },
     "execution_count": 15,
     "metadata": {},
     "output_type": "execute_result"
    }
   ],
   "source": [
    "# calculate residuals\n",
    "\n",
    "resids = y_true - y_pred\n",
    "resids.mean()"
   ]
  },
  {
   "cell_type": "code",
   "execution_count": 18,
   "metadata": {},
   "outputs": [
    {
     "data": {
      "text/plain": [
       "Text(0, 0.5, 'Residuals')"
      ]
     },
     "execution_count": 18,
     "metadata": {},
     "output_type": "execute_result"
    },
    {
     "data": {
      "image/png": "[encoded data removed]",
      "text/plain": [
       "<Figure size 432x288 with 1 Axes>"
      ]
     },
     "metadata": {
      "needs_background": "light"
     },
     "output_type": "display_data"
    }
   ],
   "source": [
    "plt.scatter(y_pred, resids);\n",
    "plt.axhline(0, color='r')\n",
    "plt.title('Plot of Residuals')\n",
    "plt.xlabel('Predictions')\n",
    "plt.ylabel('Residuals')"
   ]
  },
  {
   "cell_type": "markdown",
   "metadata": {},
   "source": [
    "Our residuals are pretty evenly distributed. The concentration of predictions & residuals also gives us an interesting picture of the final score of most NBA games - something we can consider when looking at point total bets."
   ]
  },
  {
   "cell_type": "code",
   "execution_count": null,
   "metadata": {},
   "outputs": [],
   "source": []
  },
  {
   "cell_type": "code",
   "execution_count": null,
   "metadata": {},
   "outputs": [],
   "source": []
  }
 ],
 "metadata": {
  "kernelspec": {
   "display_name": "Python 3",
   "language": "python",
   "name": "python3"
  },
  "language_info": {
   "codemirror_mode": {
    "name": "ipython",
    "version": 3
   },
   "file_extension": ".py",
   "mimetype": "text/x-python",
   "name": "python",
   "nbconvert_exporter": "python",
   "pygments_lexer": "ipython3",
   "version": "3.7.4"
  }
 },
 "nbformat": 4,
 "nbformat_minor": 2
}
